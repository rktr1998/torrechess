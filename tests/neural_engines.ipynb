{
 "cells": [
  {
   "cell_type": "code",
   "execution_count": 1,
   "metadata": {},
   "outputs": [
    {
     "name": "stdout",
     "output_type": "stream",
     "text": [
      "Model loaded from _nn_29_1858_v0.pth\n"
     ]
    }
   ],
   "source": [
    "# Add the parent folder to the python path to allow importing torrechess\n",
    "import sys\n",
    "sys.path.append(\"..\")\n",
    "\n",
    "from torrechess.neural_engines import TorreEngineNN_29_1858_v0\n",
    "\n",
    "#MODEL_PATH = \"..\\\\torrechess\\\\_nn_29_1858_v0.pth\"\n",
    "#engine = TorreEngineNN_29_1858_v0(model_path=MODEL_PATH) # create from scratch or load\n",
    "\n",
    "MODEL_PATH = \"_nn_29_1858_v0.pth\"\n",
    "engine = TorreEngineNN_29_1858_v0() # create from scratch or load from this folder"
   ]
  },
  {
   "cell_type": "code",
   "execution_count": 2,
   "metadata": {},
   "outputs": [
    {
     "name": "stdout",
     "output_type": "stream",
     "text": [
      "Move played: b2b3\n"
     ]
    }
   ],
   "source": [
    "import chess\n",
    "\n",
    "# Eval a board with the engine and print output layer\n",
    "board = chess.Board()\n",
    "\n",
    "move = engine.play_move_on_chessboard(board, prevent_illegal_move=True)\n",
    "print(\"Move played:\", move)"
   ]
  },
  {
   "cell_type": "code",
   "execution_count": 7,
   "metadata": {},
   "outputs": [
    {
     "name": "stdout",
     "output_type": "stream",
     "text": [
      "[Event \"?\"]\n",
      "[Site \"?\"]\n",
      "[Date \"????.??.??\"]\n",
      "[Round \"?\"]\n",
      "[White \"White\"]\n",
      "[Black \"Black\"]\n",
      "[Result \"1/2-1/2\"]\n",
      "\n",
      "1. b3 Nf6 2. Bb2 d6 3. b4 Bf5 4. h3 Qd7 5. h4 Qc6 6. Rh3 Nbd7 7. Bd4 h5 8. Bxa7 Nh7 9. Bc5 Nhf6 10. g3 Ra3 11. g4 Rxh3 12. gxh5 Nh7 13. Bg2 Nhf6 14. Bxh3 Nh7 15. Bg4 Nhf6 16. e4 Nh7 17. Ne2 Nhf6 18. c4 Nh7 19. Qc2 Nhf6 20. f3 Nh7 21. Bg1 Nhf6 22. Ba7 Nh7 23. Bc5 Nhf6 24. Bg1 Nh7 25. Ba7 Nhf6 26. Bc5 Nh7 27. Bg1 Nhf6 28. Ba7 Nh7 29. Bc5 Nhf6 30. Bg1 Nh7 31. Ba7 Nhf6 32. Bc5 Nh7 33. Bg1 Nhf6 34. Ba7 Nh7 35. Bc5 Nhf6 36. Bg1 Nh7 37. Ba7 Nhf6 38. Bc5 Nh7 39. Bg1 Nhf6 40. Ba7 Nh7 41. Bc5 Nhf6 42. Bg1 Nh7 43. Ba7 Nhf6 44. Bc5 1/2-1/2\n",
      "\n"
     ]
    }
   ],
   "source": [
    "from torrechess.utils import pgn_from_chessboard\n",
    "\n",
    "# Make the engine play itself\n",
    "def play_game():\n",
    "    board = chess.Board()\n",
    "    while not board.is_game_over():\n",
    "        #print(\"Turn \", board.fullmove_number, \":\", \"White\" if board.turn == chess.WHITE else \"Black\")\n",
    "        move = engine.play_move_on_chessboard(board, prevent_illegal_move=True)\n",
    "        #print(move)\n",
    "    return board\n",
    "\n",
    "board = play_game()\n",
    "print(pgn_from_chessboard(board))\n",
    "print()"
   ]
  },
  {
   "cell_type": "code",
   "execution_count": null,
   "metadata": {},
   "outputs": [],
   "source": [
    "# Neural vs heuristic engine random\n",
    "from torrechess.heuristic_engines import TorreEngineRandom\n",
    "\n",
    "random_engine = TorreEngineRandom()\n",
    "neural_engine = TorreEngineNN_29_1858_v0()\n",
    "\n",
    "def play_game(engine1, engine2) -> str:\n",
    "    \"\"\"\n",
    "    Returns the result of a game between two engines.\n",
    "    Result is either \"1-0\", \"0-1\" or \"1/2-1/2\".\n",
    "    \"\"\"\n",
    "    board = chess.Board()\n",
    "    while not board.is_game_over():\n",
    "        engine1.play_move_on_chessboard(board)\n",
    "        if not board.is_game_over():\n",
    "            engine2.play_move_on_chessboard(board)\n",
    "    return board.result()\n",
    "\n",
    "def play_games_return_results(engine1, engine2, n_white_games_each: int) -> tuple[int,int,int]:\n",
    "    \"\"\"\n",
    "    Make 2 engines play eachother for a number of games.\n",
    "    Each engine plays n games as white.\n",
    "    \"\"\"\n",
    "    engine1_wins = 0\n",
    "    engine2_wins = 0\n",
    "    draws = 0\n",
    "    for _ in range(n_white_games_each):\n",
    "        result = play_game(engine1, engine2)\n",
    "        if result == \"1-0\":\n",
    "            engine1_wins += 1\n",
    "        elif result == \"0-1\":\n",
    "            engine2_wins += 1\n",
    "        else:\n",
    "            draws += 1\n",
    "\n",
    "    for _ in range(n_white_games_each):\n",
    "        result = play_game(engine2, engine1)\n",
    "        if result == \"1-0\":\n",
    "            engine2_wins += 1\n",
    "        elif result == \"0-1\":\n",
    "            engine1_wins += 1\n",
    "        else:\n",
    "            draws += 1\n",
    "\n",
    "    return engine1_wins, engine2_wins, draws\n",
    "\n",
    "n_games = 10\n",
    "engine1_wins, engine2_wins, draws = play_games_return_results(neural_engine, random_engine, n_games)\n",
    "print(f\"Neural engine wins: {engine1_wins}/{n_games}\")\n",
    "print(f\"Random engine wins: {engine2_wins}/{n_games}\")\n",
    "print(f\"Draws: {draws}/{n_games}\")"
   ]
  }
 ],
 "metadata": {
  "kernelspec": {
   "display_name": ".venv",
   "language": "python",
   "name": "python3"
  },
  "language_info": {
   "codemirror_mode": {
    "name": "ipython",
    "version": 3
   },
   "file_extension": ".py",
   "mimetype": "text/x-python",
   "name": "python",
   "nbconvert_exporter": "python",
   "pygments_lexer": "ipython3",
   "version": "3.12.3"
  }
 },
 "nbformat": 4,
 "nbformat_minor": 2
}

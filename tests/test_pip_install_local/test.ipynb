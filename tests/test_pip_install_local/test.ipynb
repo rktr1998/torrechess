{
 "cells": [
  {
   "cell_type": "code",
   "execution_count": 1,
   "metadata": {},
   "outputs": [],
   "source": [
    "from torrechess import core"
   ]
  },
  {
   "cell_type": "code",
   "execution_count": 2,
   "metadata": {},
   "outputs": [
    {
     "name": "stdout",
     "output_type": "stream",
     "text": [
      "Default FEN:  rnbqkbnr/pppppppp/8/8/8/8/PPPPPPPP/RNBQKBNR w KQkq - 0 1\n",
      "White pawn at 1 0 bitmask 256\n",
      "White pawn at 1 1 bitmask 512\n",
      "White pawn at 1 2 bitmask 1024\n",
      "White pawn at 1 3 bitmask 2048\n",
      "White pawn at 1 4 bitmask 4096\n",
      "White pawn at 1 5 bitmask 8192\n",
      "White pawn at 1 6 bitmask 16384\n",
      "White pawn at 1 7 bitmask 32768\n",
      "Board object:  <torrechess.core.__init__.Board object at 0x0000013B01372DB0>\n",
      "White pawn bitmask:  65280\n",
      "0000000011111111000000000000000000000000000000000000000000000000\n",
      "0 0 0 0 0 0 0 0 \n",
      "0 0 0 0 0 0 0 0 \n",
      "1 1 1 1 1 1 1 1 \n",
      "0 0 0 0 0 0 0 0 \n",
      "0 0 0 0 0 0 0 0 \n",
      "0 0 0 0 0 0 0 0 \n",
      "1 1 1 1 1 1 1 1 \n",
      "0 0 0 0 0 0 0 0 \n"
     ]
    }
   ],
   "source": [
    "default_fen = core.get_default_fen()\n",
    "print(\"Default FEN: \", default_fen)\n",
    "\n",
    "board = core.Board(default_fen)\n",
    "print(\"Board object: \", board)\n",
    "\n",
    "bitmask_white_pawn = board.get_bitmask_white_pawn()\n",
    "print(\"White pawn bitmask: \", bitmask_white_pawn)\n",
    "print(core.get_bitmask_string(bitmask_white_pawn))\n",
    "core.print_pretty_bitmask(bitmask_white_pawn)"
   ]
  },
  {
   "cell_type": "code",
   "execution_count": 3,
   "metadata": {},
   "outputs": [
    {
     "name": "stdout",
     "output_type": "stream",
     "text": [
      "Bitmask white pawn:  65280\n",
      "Bitmask white pawn (string):  0000000011111111000000000000000000000000000000000000000000000000\n"
     ]
    }
   ],
   "source": [
    "bitmask_white_pawn = board.get_bitmask_white_pawn()\n",
    "print(\"Bitmask white pawn: \", bitmask_white_pawn)\n",
    "\n",
    "bm_string = core.get_bitmask_string(bitmask_white_pawn)\n",
    "print(\"Bitmask white pawn (string): \", bm_string)"
   ]
  }
 ],
 "metadata": {
  "kernelspec": {
   "display_name": ".venv",
   "language": "python",
   "name": "python3"
  },
  "language_info": {
   "codemirror_mode": {
    "name": "ipython",
    "version": 3
   },
   "file_extension": ".py",
   "mimetype": "text/x-python",
   "name": "python",
   "nbconvert_exporter": "python",
   "pygments_lexer": "ipython3",
   "version": "3.12.3"
  }
 },
 "nbformat": 4,
 "nbformat_minor": 2
}

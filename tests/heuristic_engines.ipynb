{
 "cells": [
  {
   "cell_type": "markdown",
   "metadata": {},
   "source": [
    "# Heuristic Engines"
   ]
  },
  {
   "cell_type": "code",
   "execution_count": 1,
   "metadata": {},
   "outputs": [],
   "source": [
    "# Add the parent folder to the python path to allow importing torrechess\n",
    "import sys\n",
    "sys.path.append(\"..\")\n",
    "\n",
    "import time\n",
    "from torrechess import heuristic_engines\n",
    "\n",
    "random_engine = heuristic_engines.TorreEngineRandom()\n",
    "random_capture_engine = heuristic_engines.TorreEngineRandomCapture()\n",
    "random_check_engine = heuristic_engines.TorreEngineRandomCheck()\n",
    "material_next_move_engine = heuristic_engines.TorreEngineMaterialNextMove()"
   ]
  },
  {
   "cell_type": "code",
   "execution_count": 2,
   "metadata": {},
   "outputs": [],
   "source": [
    "import chess\n",
    "\n",
    "def play_game(engine1, engine2) -> str:\n",
    "    \"\"\"\n",
    "    Returns the result of a game between two engines.\n",
    "    Result is either \"1-0\", \"0-1\" or \"1/2-1/2\".\n",
    "    \"\"\"\n",
    "    board = chess.Board()\n",
    "    while not board.is_game_over():\n",
    "        engine1.play_move_on_chessboard(board)\n",
    "        if not board.is_game_over():\n",
    "            engine2.play_move_on_chessboard(board)\n",
    "    return board.result()\n",
    "\n",
    "def play_games_return_results(engine1, engine2, n_white_games_each: int) -> tuple[int,int,int]:\n",
    "    \"\"\"\n",
    "    Make 2 engines play eachother for a number of games.\n",
    "    Each engine plays n games as white.\n",
    "    \"\"\"\n",
    "    engine1_wins = 0\n",
    "    engine2_wins = 0\n",
    "    draws = 0\n",
    "    for _ in range(n_white_games_each):\n",
    "        result = play_game(engine1, engine2)\n",
    "        if result == \"1-0\":\n",
    "            engine1_wins += 1\n",
    "        elif result == \"0-1\":\n",
    "            engine2_wins += 1\n",
    "        else:\n",
    "            draws += 1\n",
    "\n",
    "    for _ in range(n_white_games_each):\n",
    "        result = play_game(engine2, engine1)\n",
    "        if result == \"1-0\":\n",
    "            engine2_wins += 1\n",
    "        elif result == \"0-1\":\n",
    "            engine1_wins += 1\n",
    "        else:\n",
    "            draws += 1\n",
    "\n",
    "    return engine1_wins, engine2_wins, draws\n"
   ]
  },
  {
   "cell_type": "code",
   "execution_count": 3,
   "metadata": {},
   "outputs": [
    {
     "name": "stdout",
     "output_type": "stream",
     "text": [
      "Random engine vs Random capture engine: 0 -- 39 -- 161 D\n",
      "Average game time: 16 ms\n"
     ]
    }
   ],
   "source": [
    "# Match random engine vs random capture engine\n",
    "start_time = time.time()\n",
    "n_white_games_each = 100\n",
    "engine1_wins, engine2_wins, draws = play_games_return_results(random_engine, random_capture_engine, n_white_games_each)\n",
    "print(f\"Random engine vs Random capture engine: {engine1_wins} -- {engine2_wins} -- {draws} D\")\n",
    "print(f\"Average game time: {int((time.time() - start_time) / (2 * n_white_games_each) * 1000)} ms\")\n"
   ]
  },
  {
   "cell_type": "code",
   "execution_count": 4,
   "metadata": {},
   "outputs": [
    {
     "name": "stdout",
     "output_type": "stream",
     "text": [
      "Random engine vs Random check engine: 16 -- 33 -- 151 D\n",
      "Average game time: 32 ms\n"
     ]
    }
   ],
   "source": [
    "# Match random engine vs random check engine\n",
    "start_time = time.time()\n",
    "n_white_games_each = 100\n",
    "engine1_wins, engine2_wins, draws = play_games_return_results(random_engine, random_check_engine, n_white_games_each)\n",
    "print(f\"Random engine vs Random check engine: {engine1_wins} -- {engine2_wins} -- {draws} D\")\n",
    "print(f\"Average game time: {int((time.time() - start_time) / (2 * n_white_games_each) * 1000)} ms\")\n"
   ]
  },
  {
   "cell_type": "code",
   "execution_count": 5,
   "metadata": {},
   "outputs": [
    {
     "name": "stdout",
     "output_type": "stream",
     "text": [
      "Random capture engine vs Random check engine: 31 -- 1 -- 168 D\n",
      "Average game time: 57 ms\n"
     ]
    }
   ],
   "source": [
    "# Match random capture engine vs random check engine\n",
    "strat_time = time.time()\n",
    "n_white_games_each = 100\n",
    "engine1_wins, engine2_wins, draws = play_games_return_results(random_capture_engine, random_check_engine, n_white_games_each)\n",
    "print(f\"Random capture engine vs Random check engine: {engine1_wins} -- {engine2_wins} -- {draws} D\")\n",
    "print(f\"Average game time: {int((time.time() - start_time) / (2 * n_white_games_each) * 1000)} ms\")\n"
   ]
  },
  {
   "cell_type": "code",
   "execution_count": 6,
   "metadata": {},
   "outputs": [
    {
     "name": "stdout",
     "output_type": "stream",
     "text": [
      "Random engine vs Material next move engine: 0 -- 41 -- 159 D\n",
      "Average game time: 31 ms\n"
     ]
    }
   ],
   "source": [
    "# Match random engine vs material next move engine\n",
    "start_time = time.time()\n",
    "n_white_games_each = 100\n",
    "engine1_wins, engine2_wins, draws = play_games_return_results(random_engine, material_next_move_engine, n_white_games_each)\n",
    "print(f\"Random engine vs Material next move engine: {engine1_wins} -- {engine2_wins} -- {draws} D\")\n",
    "print(f\"Average game time: {int((time.time() - start_time) / (2 * n_white_games_each) * 1000)} ms\")\n"
   ]
  },
  {
   "cell_type": "code",
   "execution_count": 7,
   "metadata": {},
   "outputs": [
    {
     "name": "stdout",
     "output_type": "stream",
     "text": [
      "Random capture engine vs Material next move engine: 1 -- 3 -- 196 D\n",
      "Average game time: 18 ms\n"
     ]
    }
   ],
   "source": [
    "# Match random capture engine vs material next move engine\n",
    "start_time = time.time()\n",
    "n_white_games_each = 100\n",
    "engine1_wins, engine2_wins, draws = play_games_return_results(random_capture_engine, material_next_move_engine, n_white_games_each)\n",
    "print(f\"Random capture engine vs Material next move engine: {engine1_wins} -- {engine2_wins} -- {draws} D\")\n",
    "print(f\"Average game time: {int((time.time() - start_time) / (2 * n_white_games_each) * 1000)} ms\")\n"
   ]
  }
 ],
 "metadata": {
  "kernelspec": {
   "display_name": ".venv",
   "language": "python",
   "name": "python3"
  },
  "language_info": {
   "codemirror_mode": {
    "name": "ipython",
    "version": 3
   },
   "file_extension": ".py",
   "mimetype": "text/x-python",
   "name": "python",
   "nbconvert_exporter": "python",
   "pygments_lexer": "ipython3",
   "version": "3.12.3"
  }
 },
 "nbformat": 4,
 "nbformat_minor": 2
}
